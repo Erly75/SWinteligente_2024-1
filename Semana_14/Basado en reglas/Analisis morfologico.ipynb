{
 "cells": [
  {
   "cell_type": "markdown",
   "id": "b799d2a0-da97-458e-ae7b-31659ae6edb2",
   "metadata": {},
   "source": [
    "## Análisis morfológico con spacy"
   ]
  },
  {
   "cell_type": "code",
   "execution_count": 7,
   "id": "2e6b2c12-3776-4d55-808d-a1eaaedaf45f",
   "metadata": {},
   "outputs": [],
   "source": [
    "import spacy"
   ]
  },
  {
   "cell_type": "markdown",
   "id": "c3ae0540-bee6-4c64-89a7-6c5c7784d0f1",
   "metadata": {},
   "source": [
    "#### Carga de modelo y su proceso"
   ]
  },
  {
   "cell_type": "code",
   "execution_count": 8,
   "id": "2bd46071-2773-4e26-aa6a-dd6f54f64bc9",
   "metadata": {},
   "outputs": [],
   "source": [
    "modelo = spacy.load(\"es_core_news_sm\")\n",
    "text = \"Yo quiero ir a la universidad urgente por que estoy tarde.\"\n",
    "doc = modelo(text)"
   ]
  },
  {
   "cell_type": "markdown",
   "id": "e40ae9ca-b830-463b-b45e-2eab2f4bee01",
   "metadata": {},
   "source": [
    "#### Resultados del análisis morfológico"
   ]
  },
  {
   "cell_type": "code",
   "execution_count": 9,
   "id": "bf217066-ea95-4d68-9e85-00a023fa5217",
   "metadata": {},
   "outputs": [
    {
     "name": "stdout",
     "output_type": "stream",
     "text": [
      "Token: Yo\n",
      "  Lema: yo\n",
      "  Parte de la oración: PRON\n",
      "  Etiqueta detallada: PRON\n",
      "  Dependencia: nsubj\n",
      "  Forma morfológica: Case=Nom|Number=Sing|Person=1|PronType=Prs\n",
      "\n",
      "Token: quiero\n",
      "  Lema: querer\n",
      "  Parte de la oración: VERB\n",
      "  Etiqueta detallada: VERB\n",
      "  Dependencia: ROOT\n",
      "  Forma morfológica: Mood=Ind|Number=Sing|Person=1|Tense=Pres|VerbForm=Fin\n",
      "\n",
      "Token: ir\n",
      "  Lema: ir\n",
      "  Parte de la oración: VERB\n",
      "  Etiqueta detallada: VERB\n",
      "  Dependencia: xcomp\n",
      "  Forma morfológica: VerbForm=Inf\n",
      "\n",
      "Token: a\n",
      "  Lema: a\n",
      "  Parte de la oración: ADP\n",
      "  Etiqueta detallada: ADP\n",
      "  Dependencia: case\n",
      "  Forma morfológica: \n",
      "\n",
      "Token: la\n",
      "  Lema: el\n",
      "  Parte de la oración: DET\n",
      "  Etiqueta detallada: DET\n",
      "  Dependencia: det\n",
      "  Forma morfológica: Definite=Def|Gender=Fem|Number=Sing|PronType=Art\n",
      "\n",
      "Token: universidad\n",
      "  Lema: universidad\n",
      "  Parte de la oración: NOUN\n",
      "  Etiqueta detallada: NOUN\n",
      "  Dependencia: obl\n",
      "  Forma morfológica: Gender=Fem|Number=Sing\n",
      "\n",
      "Token: urgente\n",
      "  Lema: urgente\n",
      "  Parte de la oración: ADJ\n",
      "  Etiqueta detallada: ADJ\n",
      "  Dependencia: amod\n",
      "  Forma morfológica: Number=Sing\n",
      "\n",
      "Token: por\n",
      "  Lema: por\n",
      "  Parte de la oración: ADP\n",
      "  Etiqueta detallada: ADP\n",
      "  Dependencia: mark\n",
      "  Forma morfológica: \n",
      "\n",
      "Token: que\n",
      "  Lema: que\n",
      "  Parte de la oración: SCONJ\n",
      "  Etiqueta detallada: SCONJ\n",
      "  Dependencia: mark\n",
      "  Forma morfológica: \n",
      "\n",
      "Token: estoy\n",
      "  Lema: estar\n",
      "  Parte de la oración: AUX\n",
      "  Etiqueta detallada: AUX\n",
      "  Dependencia: cop\n",
      "  Forma morfológica: Mood=Ind|Number=Sing|Person=1|Tense=Pres|VerbForm=Fin\n",
      "\n",
      "Token: tarde\n",
      "  Lema: tarde\n",
      "  Parte de la oración: ADV\n",
      "  Etiqueta detallada: ADV\n",
      "  Dependencia: advcl\n",
      "  Forma morfológica: \n",
      "\n",
      "Token: .\n",
      "  Lema: .\n",
      "  Parte de la oración: PUNCT\n",
      "  Etiqueta detallada: PUNCT\n",
      "  Dependencia: punct\n",
      "  Forma morfológica: PunctType=Peri\n",
      "\n"
     ]
    }
   ],
   "source": [
    "for token in doc:\n",
    "    print(f\"Token: {token.text}\")\n",
    "    print(f\"  Lema: {token.lemma_}\")\n",
    "    print(f\"  Parte de la oración: {token.pos_}\")\n",
    "    print(f\"  Etiqueta detallada: {token.tag_}\")\n",
    "    print(f\"  Dependencia: {token.dep_}\")\n",
    "    print(f\"  Forma morfológica: {token.morph}\")\n",
    "    print()"
   ]
  }
 ],
 "metadata": {
  "kernelspec": {
   "display_name": "Python 3 (ipykernel)",
   "language": "python",
   "name": "python3"
  },
  "language_info": {
   "codemirror_mode": {
    "name": "ipython",
    "version": 3
   },
   "file_extension": ".py",
   "mimetype": "text/x-python",
   "name": "python",
   "nbconvert_exporter": "python",
   "pygments_lexer": "ipython3",
   "version": "3.10.9"
  }
 },
 "nbformat": 4,
 "nbformat_minor": 5
}
