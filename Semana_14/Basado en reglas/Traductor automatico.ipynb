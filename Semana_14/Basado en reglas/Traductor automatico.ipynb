{
 "cells": [
  {
   "cell_type": "markdown",
   "id": "2ca51792-e0be-4271-b37b-5820619af2c1",
   "metadata": {},
   "source": [
    "## Traducción automática basado en reglas en-es"
   ]
  },
  {
   "cell_type": "markdown",
   "id": "5cd6c32a-be62-4440-aff6-7ac82c5a49a9",
   "metadata": {},
   "source": [
    "#### Cargando modelos en-es"
   ]
  },
  {
   "cell_type": "code",
   "execution_count": 20,
   "id": "e441c528-b23b-47ae-bb04-7336d3315b59",
   "metadata": {},
   "outputs": [],
   "source": [
    "import spacy\n",
    "nlp_es = spacy.load('es_core_news_sm')\n",
    "nlp_en = spacy.load('en_core_web_sm')"
   ]
  },
  {
   "cell_type": "markdown",
   "id": "7e486cd5-aaa6-42ea-a3de-5a8c4fdf43f1",
   "metadata": {},
   "source": [
    "#### Analizador morfológico"
   ]
  },
  {
   "cell_type": "code",
   "execution_count": 21,
   "id": "fe202318-cae5-4f7d-8575-c0abe812a536",
   "metadata": {},
   "outputs": [],
   "source": [
    "def analizador_morfologico(texto, idioma=\"es\"):\n",
    "    if idioma == \"es\":\n",
    "        doc = nlp_es(texto)\n",
    "    else:\n",
    "        doc = nlp_en(texto)\n",
    "    \n",
    "    morfologia = []\n",
    "    for token in doc:\n",
    "        morfologia.append({\n",
    "            \"texto\": token.text,\n",
    "            \"lema\": token.lemma_,\n",
    "            \"pos\": token.pos_,\n",
    "            \"etiqueta\": token.tag_,\n",
    "            \"morf\": token.morph\n",
    "        })\n",
    "    return morfologia"
   ]
  },
  {
   "cell_type": "markdown",
   "id": "2e4351fd-242a-4947-8094-3b5f0a94017f",
   "metadata": {},
   "source": [
    "#### Análisis sintáctico"
   ]
  },
  {
   "cell_type": "code",
   "execution_count": 22,
   "id": "2371e21e-616c-40bd-a81f-13bbeb7fe726",
   "metadata": {},
   "outputs": [],
   "source": [
    "def analizador_sintactico(texto, idioma=\"es\"):\n",
    "    if idioma == \"es\":\n",
    "        doc = nlp_es(texto)\n",
    "    else:\n",
    "        doc = nlp_en(texto)\n",
    "    \n",
    "    sintaxis = []\n",
    "    for token in doc:\n",
    "        sintaxis.append({\n",
    "            \"texto\": token.text,\n",
    "            \"lema\": token.lemma_,\n",
    "            \"pos\": token.pos_,\n",
    "            \"etiqueta\": token.tag_,\n",
    "            \"dependencia\": token.dep_,\n",
    "            \"cabeza\": token.head.text\n",
    "        })\n",
    "    return sintaxis"
   ]
  },
  {
   "cell_type": "markdown",
   "id": "9dd4d081-e2dd-4037-92d4-a540f54358a2",
   "metadata": {},
   "source": [
    "#### Definición de diccinarios"
   ]
  },
  {
   "cell_type": "code",
   "execution_count": 23,
   "id": "dcf089a5-7111-4e58-9eba-a1bbcb1760d7",
   "metadata": {},
   "outputs": [],
   "source": [
    "translation_dict = {\n",
    "    \"gato\": \"cat\",\n",
    "    \"perro\": \"dog\",\n",
    "    \"mascota\": \"pet\",\n",
    "    \"parque\": \"park\",\n",
    "    \"los\": \"the\",   \n",
    "    \"las\": \"the\",  \n",
    "    \"el\": \"the\",   \n",
    "    \"la\": \"the\",   \n",
    "    \"un\": \"a\",      \n",
    "    \"una\": \"a\",     \n",
    "    \"unos\": \"some\", \n",
    "    \"unas\": \"some\"  \n",
    "}\n"
   ]
  },
  {
   "cell_type": "markdown",
   "id": "f4202eee-ab12-4431-85d2-c73a64977b22",
   "metadata": {},
   "source": [
    "#### Traduccón en-es y es-en"
   ]
  },
  {
   "cell_type": "code",
   "execution_count": 24,
   "id": "5a9e6a37-97b8-4ccd-a091-8de599449973",
   "metadata": {},
   "outputs": [],
   "source": [
    "def traducir(texto, source_lang=\"es\", target_lang=\"en\"):\n",
    "    morfologia = analizador_morfologico(texto, idioma=source_lang)\n",
    "    sintaxis = analizador_sintactico(texto, idioma=source_lang)\n",
    "    traduccion = []\n",
    "    for word_info in morfologia:\n",
    "        lemma = word_info[\"lema\"].lower()\n",
    "        \n",
    "        if source_lang == \"es\" and lemma in translation_dict:\n",
    "            translated_word = translation_dict[lemma]\n",
    "            if word_info[\"morf\"].get(\"Number\") == [\"Plur\"]:\n",
    "                if not translated_word.endswith(\"s\"):\n",
    "                    translated_word += \"s\"\n",
    "            traduccion.append(translated_word)\n",
    "        \n",
    "        elif source_lang == \"en\" and lemma in translation_dict.values():\n",
    "            translated_word = [key for key, value in translation_dict.items() if value == lemma][0]\n",
    "            if word_info[\"morf\"].get(\"Number\") == [\"plur\"]:\n",
    "                if translated_word.endswith(\"o\"):\n",
    "                    translated_word = translated_word[:-1] + \"os\"\n",
    "                elif translated_word.endswith(\"a\"):\n",
    "                    translated_word = translated_word[:-1] + \"as\"\n",
    "                else:\n",
    "                    translated_word += \"s\"\n",
    "            traduccion.append(translated_word)\n",
    "        else:\n",
    "            traduccion.append(word_info[\"texto\"])\n",
    "    \n",
    "    if source_lang == \"en\":\n",
    "        for i in range(len(traduccion)):\n",
    "            if traduccion[i] == \"the\":\n",
    "                if i+1 < len(traduccion):\n",
    "                    next_word = traduccion[i+1]\n",
    "                    if next_word.endswith(\"s\"):\n",
    "                        if next_word.endswith(\"as\"):\n",
    "                            traduccion[i] = \"las\"\n",
    "                        else:\n",
    "                            traduccion[i] = \"los\"\n",
    "                    else:\n",
    "                        if next_word.endswith(\"a\"):\n",
    "                            traduccion[i] = \"la\"\n",
    "                        else:\n",
    "                            traduccion[i] = \"el\"\n",
    "    \n",
    "    return \" \".join(traduccion)"
   ]
  },
  {
   "cell_type": "markdown",
   "id": "79249af9-0191-447a-b91b-24913ee07ca6",
   "metadata": {},
   "source": [
    "#### Ejemplo de entrada y salida de la traducción"
   ]
  },
  {
   "cell_type": "code",
   "execution_count": 25,
   "id": "5294de2c-3ad9-47db-bc66-4387d23937f4",
   "metadata": {},
   "outputs": [
    {
     "name": "stdout",
     "output_type": "stream",
     "text": [
      "Español: El gato y el perro son mascotas.\n",
      "Inglés: the cat y the dog son pets .\n",
      "\n",
      "Inglés: The pets are in the park.\n",
      "Español: los mascota are in los parque .\n"
     ]
    }
   ],
   "source": [
    "texto_espanol = \"El gato y el perro son mascotas.\"\n",
    "traduccion_a_ingles = traducir(texto_espanol, source_lang=\"es\", target_lang=\"en\")\n",
    "print(f\"Español: {texto_espanol}\")\n",
    "print(f\"Inglés: {traduccion_a_ingles}\")\n",
    "\n",
    "print()\n",
    "\n",
    "texto_ingles = \"The pets are in the park.\"\n",
    "traduccion_a_espanol = traducir(texto_ingles, source_lang=\"en\", target_lang=\"es\")\n",
    "print(f\"Inglés: {texto_ingles}\")\n",
    "print(f\"Español: {traduccion_a_espanol}\")\n"
   ]
  },
  {
   "cell_type": "code",
   "execution_count": null,
   "id": "3124fb40-1af6-499f-a5cd-5e6430b3c967",
   "metadata": {},
   "outputs": [],
   "source": []
  }
 ],
 "metadata": {
  "kernelspec": {
   "display_name": "Python 3 (ipykernel)",
   "language": "python",
   "name": "python3"
  },
  "language_info": {
   "codemirror_mode": {
    "name": "ipython",
    "version": 3
   },
   "file_extension": ".py",
   "mimetype": "text/x-python",
   "name": "python",
   "nbconvert_exporter": "python",
   "pygments_lexer": "ipython3",
   "version": "3.10.9"
  }
 },
 "nbformat": 4,
 "nbformat_minor": 5
}
