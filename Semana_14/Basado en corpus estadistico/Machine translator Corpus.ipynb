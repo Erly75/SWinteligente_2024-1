{
 "cells": [
  {
   "cell_type": "code",
   "execution_count": null,
   "id": "849d3039-a3aa-4d1b-91d4-13a8652303ba",
   "metadata": {},
   "outputs": [
    {
     "name": "stderr",
     "output_type": "stream",
     "text": [
      "[nltk_data] Downloading package comtrans to\n",
      "[nltk_data]     C:\\Users\\hdcal\\AppData\\Roaming\\nltk_data...\n",
      "[nltk_data]   Package comtrans is already up-to-date!\n"
     ]
    }
   ],
   "source": [
    "import nltk\n",
    "from nltk.corpus import comtrans\n",
    "from nltk.translate.ibm1 import IBMModel1\n",
    "\n",
    "# Download the comtrans corpus if not already downloaded\n",
    "nltk.download('comtrans')\n",
    "\n",
    "# Load English-Spanish parallel sentences\n",
    "bitext = comtrans.aligned_sents()\n",
    "\n",
    "# Train IBM Model 1 for word alignment\n",
    "ibm1 = IBMModel1(bitext, 5)\n",
    "\n",
    "# Function to translate from Spanish to English\n",
    "def translate_spanish_to_english(sentence):\n",
    "    translated_sentence = []\n",
    "    for word in sentence.split():\n",
    "        translations = ibm1.translation_table[word.lower()].items()\n",
    "        translated_word = max(translations, key=lambda x: x[1])[0] if translations else word\n",
    "        translated_sentence.append(translated_word)\n",
    "    return ' '.join(translated_sentence)\n",
    "\n",
    "# Function to translate from English to Spanish\n",
    "def translate_english_to_spanish(sentence):\n",
    "    translated_sentence = []\n",
    "    for word in sentence.split():\n",
    "        translations = {v: k for k, v in ibm1.translation_table.items()}[word.lower()].items()\n",
    "        translated_word = max(translations, key=lambda x: x[1])[0] if translations else word\n",
    "        translated_sentence.append(translated_word)\n",
    "    return ' '.join(translated_sentence)\n",
    "\n",
    "# Example sentences\n",
    "spanish_sentence = \"El gato está en la casa.\"\n",
    "english_sentence = \"The dog is in the car.\"\n",
    "\n",
    "# Translate from Spanish to English\n",
    "translated_english = translate_spanish_to_english(spanish_sentence)\n",
    "print(f\"Spanish to English: {spanish_sentence} -> {translated_english}\")\n",
    "\n",
    "# Translate from English to Spanish\n",
    "translated_spanish = translate_english_to_spanish(english_sentence)\n",
    "print(f\"English to Spanish: {english_sentence} -> {translated_spanish}\")\n"
   ]
  },
  {
   "cell_type": "code",
   "execution_count": null,
   "id": "c02b234f-60bc-4d2c-8fef-e683ff68d6c0",
   "metadata": {},
   "outputs": [],
   "source": []
  }
 ],
 "metadata": {
  "kernelspec": {
   "display_name": "Python 3 (ipykernel)",
   "language": "python",
   "name": "python3"
  },
  "language_info": {
   "codemirror_mode": {
    "name": "ipython",
    "version": 3
   },
   "file_extension": ".py",
   "mimetype": "text/x-python",
   "name": "python",
   "nbconvert_exporter": "python",
   "pygments_lexer": "ipython3",
   "version": "3.10.9"
  }
 },
 "nbformat": 4,
 "nbformat_minor": 5
}
