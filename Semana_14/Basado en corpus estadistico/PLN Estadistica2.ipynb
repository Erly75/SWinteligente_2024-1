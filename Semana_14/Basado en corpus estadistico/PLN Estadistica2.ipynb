{
 "cells": [
  {
   "cell_type": "markdown",
   "id": "5e33d19b-bb90-4baf-89b6-7a3638a5471e",
   "metadata": {},
   "source": [
    "### Frecuencia de palabras"
   ]
  },
  {
   "cell_type": "code",
   "execution_count": 3,
   "id": "6524b669-e7c6-4b43-ac41-67c796129765",
   "metadata": {},
   "outputs": [],
   "source": [
    "import nltk\n",
    "from nltk.corpus import PlaintextCorpusReader\n",
    "from nltk.text import Text\n",
    "ruta = 'C:\\\\Users\\\\hdcal\\\\prueba'\n",
    "archivo = 'corpus.txt'"
   ]
  },
  {
   "cell_type": "markdown",
   "id": "e69e9bae-4320-48e9-8b77-543b228fe522",
   "metadata": {},
   "source": [
    "#### Contabilizando frecuencias de cada palabra"
   ]
  },
  {
   "cell_type": "code",
   "execution_count": 4,
   "id": "78231437-ac06-42ae-aecb-c34d932729eb",
   "metadata": {},
   "outputs": [
    {
     "name": "stdout",
     "output_type": "stream",
     "text": [
      "<Text: llevada a cabo por maquinas En ciencias es...>\n"
     ]
    }
   ],
   "source": [
    "lectordetexto =PlaintextCorpusReader(ruta, archivo, encoding='utf8')\n",
    "temp = lectordetexto.words()\n",
    "texto = Text(temp)\n",
    "print(texto)"
   ]
  },
  {
   "cell_type": "markdown",
   "id": "d1f4d558-9942-4da9-84a8-bffe5f10094e",
   "metadata": {},
   "source": [
    "#### Salida de cantidades"
   ]
  },
  {
   "cell_type": "code",
   "execution_count": 5,
   "id": "56df810c-ec1e-425e-b203-31e06f39e558",
   "metadata": {},
   "outputs": [
    {
     "name": "stdout",
     "output_type": "stream",
     "text": [
      "3\n",
      "9\n",
      "Displaying 3 of 3 matches:\n",
      "o por maquinas En ciencias es la inteligencia de la computacion una maquina in\n",
      "lgun objetivo o tarea el termino inteligencia artificial se aplica cuando una \n",
      "asocian con otras mentes humanas inteligencia \n",
      "None\n",
      "dispersion\n"
     ]
    },
    {
     "data": {
      "image/png": "[encoded data removed]",
      "text/plain": [
       "<Figure size 640x480 with 1 Axes>"
      ]
     },
     "metadata": {},
     "output_type": "display_data"
    },
    {
     "name": "stdout",
     "output_type": "stream",
     "text": [
      "Frecuencia\n",
      "20\n",
      "4\n",
      "{'inteligencia': 20, 'máquina': 11, 'aprendizaje': 5, 'malo': 1}\n",
      "dict_keys(['inteligencia', 'máquina', 'aprendizaje', 'malo'])\n",
      "dict_values([20, 11, 5, 1])\n",
      "dict_items([('inteligencia', 20), ('máquina', 11), ('aprendizaje', 5), ('malo', 1)])\n",
      "<FreqDist with 2 samples and 3 outcomes>\n",
      "['hola', 'quetal']\n",
      "[2, 1]\n"
     ]
    }
   ],
   "source": [
    "#cuantas veces se presente\n",
    "print(texto.count('inteligencia'))\n",
    "\n",
    "#cuenta cauntas palabras le anteceden a esta palabra\n",
    "print(texto.index('inteligencia'))\n",
    "\n",
    "#muestra donde se repite esta palabra\n",
    "print(texto.concordance('inteligencia'))\n",
    "\n",
    "#dispersion muestra en que zona se esta repitiendo esas palabras\n",
    "print(\"dispersion\")\n",
    "texto.dispersion_plot(['inteligencia', 'máquina'])\n",
    "\n",
    "#Frecuencia\n",
    "print(\"Frecuencia\")\n",
    "Frecuencia = {'inteligencia':20, 'máquina':11, 'aprendizaje':5, 'malo':1}\n",
    "print(Frecuencia['inteligencia'])\n",
    "print(len(Frecuencia))\n",
    "print(str(Frecuencia))\n",
    "print(Frecuencia.keys()) #llaves\n",
    "print(Frecuencia.values()) #valores\n",
    "print(Frecuencia.items()) #todas la relaciones llave y valor\n",
    "\n",
    "texto1 =['hola','quetal','hola']\n",
    "fdist = nltk.FreqDist(texto1)\n",
    "print(fdist)\n",
    "\n",
    "print(list(nltk.FreqDist.keys(fdist)))\n",
    "print(list(nltk.FreqDist.values(fdist)))\n",
    "\n"
   ]
  },
  {
   "cell_type": "code",
   "execution_count": null,
   "id": "916b64ad-2884-494c-b210-2d2c81043f30",
   "metadata": {},
   "outputs": [],
   "source": []
  }
 ],
 "metadata": {
  "kernelspec": {
   "display_name": "Python 3 (ipykernel)",
   "language": "python",
   "name": "python3"
  },
  "language_info": {
   "codemirror_mode": {
    "name": "ipython",
    "version": 3
   },
   "file_extension": ".py",
   "mimetype": "text/x-python",
   "name": "python",
   "nbconvert_exporter": "python",
   "pygments_lexer": "ipython3",
   "version": "3.10.9"
  }
 },
 "nbformat": 4,
 "nbformat_minor": 5
}
