{
 "cells": [
  {
   "cell_type": "markdown",
   "metadata": {},
   "source": [
    "## Redes Neuronales SOM"
   ]
  },
  {
   "cell_type": "code",
   "execution_count": 9,
   "metadata": {},
   "outputs": [],
   "source": [
    "import numpy as np\n",
    "import matplotlib.pyplot as plt"
   ]
  },
  {
   "cell_type": "markdown",
   "metadata": {},
   "source": [
    "#### Función de vecindad "
   ]
  },
  {
   "cell_type": "code",
   "execution_count": 10,
   "metadata": {},
   "outputs": [],
   "source": [
    "def minimoNodo(data, t, pesos, m_rows, m_cols):\n",
    "    result = (0,0)\n",
    "    distanciaMinima = 1.0e20\n",
    "    for i in range(m_rows):\n",
    "        for j in range(m_cols):\n",
    "            ed = euc_dist(pesos[i][j], data[t])\n",
    "            if ed < distanciaMinima:\n",
    "                distanciaMinima = ed\n",
    "                result = (i, j)\n",
    "    return result"
   ]
  },
  {
   "cell_type": "markdown",
   "metadata": {},
   "source": [
    "#### Distancia euclidiana"
   ]
  },
  {
   "cell_type": "code",
   "execution_count": 11,
   "metadata": {},
   "outputs": [],
   "source": [
    "def euc_dist(v1, v2):\n",
    "    return np.linalg.norm(v1 - v2) "
   ]
  },
  {
   "cell_type": "markdown",
   "metadata": {},
   "source": [
    "#### Manhattan para el rango el espacio de agrupación"
   ]
  },
  {
   "cell_type": "code",
   "execution_count": 12,
   "metadata": {},
   "outputs": [],
   "source": [
    "def manhattan_dist(r1, c1, r2, c2):\n",
    "    return np.abs(r1-r2) + np.abs(c1-c2)"
   ]
  },
  {
   "cell_type": "markdown",
   "metadata": {},
   "source": [
    "#### Entrenamiento con SOM"
   ]
  },
  {
   "cell_type": "code",
   "execution_count": 13,
   "metadata": {},
   "outputs": [],
   "source": [
    "def SOM():\n",
    "    diminsion = 4\n",
    "    Rows = 5; Cols = 5\n",
    "    rangoMax = Rows + Cols\n",
    "    factorAprendizaje = 0.5\n",
    "    iteraciones = 1000\n",
    "    archivo = \"irisDataC.txt\"\n",
    "    dataEntrenamiento = np.loadtxt(archivo, delimiter=\",\", usecols=range(0,4),dtype=np.float64)\n",
    "    salida = np.loadtxt(archivo, delimiter=\",\", usecols=[4],dtype=np.int)\n",
    "\n",
    "    #Inicializando pesos\n",
    "    pesos = np.random.randn(Rows, Cols,diminsion)\n",
    "    for s in range(iteraciones):\n",
    "        alfa = 1.0 - ((s * 1.0) / iteraciones)\n",
    "        rangoActual = (int)(alfa * rangoMax)\n",
    "        alfaActual = alfa * factorAprendizaje\n",
    "        t = np.random.randint(len(dataEntrenamiento))\n",
    "        (bmu_row, bmu_col) = minimoNodo(dataEntrenamiento, t, pesos, Rows, Cols)\n",
    "        for i in range(Rows):\n",
    "            for j in range(Cols):\n",
    "                if manhattan_dist(bmu_row, bmu_col, i, j) < rangoActual:\n",
    "                    pesos[i][j] = pesos[i][j] + alfaActual * (dataEntrenamiento[t] - pesos[i][j])\n",
    "    for t in range(10):\n",
    "        (bmu_row, bmu_col) = minimoNodo(dataEntrenamiento, t, pesos, Rows, Cols)\n",
    "        print(t,\" \",bmu_row,\" \",bmu_col,\" \",pesos[bmu_row,bmu_col])\n",
    "\n",
    "    #VISUALIZACIÓN\n",
    "    print(\"Visualización\")\n",
    "    mapa = np.empty(shape=(Rows,Cols), dtype=np.int)\n",
    "    for i in range(Rows):\n",
    "        for j in range(Cols):\n",
    "            mapa[i][j] = -1\n",
    "    for t in range(len(dataEntrenamiento)):\n",
    "        (m_row, m_col) = minimoNodo(dataEntrenamiento, t, pesos, Rows, Cols)\n",
    "        mapa[m_row][m_col] = salida[t]\n",
    "    print(mapa)\n",
    "    plt.imshow(mapa)\n",
    "    plt.colorbar()\n",
    "    plt.show()\n"
   ]
  },
  {
   "cell_type": "markdown",
   "metadata": {},
   "source": [
    "### Función principal"
   ]
  },
  {
   "cell_type": "code",
   "execution_count": 14,
   "metadata": {},
   "outputs": [
    {
     "name": "stdout",
     "output_type": "stream",
     "text": [
      "0   1   1   [4.98928708 3.57623363 1.43735793 0.22217971]\n",
      "1   0   2   [5.22642979 3.76683517 1.58677963 0.32513909]\n",
      "2   0   0   [4.74040372 3.46273339 1.41464582 0.2725178 ]\n",
      "3   2   0   [5.50843442 2.31332532 4.02472013 1.31391895]\n",
      "4   1   3   [6.48683432 2.8005863  4.59800879 1.49923522]\n",
      "5   4   4   [6.50137178 3.15587737 5.92029276 2.33378545]\n",
      "6   4   1   [5.81526532 2.70636065 5.11421149 1.90341328]\n",
      "7   3   4   [6.84233315 3.03963295 5.87678211 2.14069442]\n",
      "8   3   2   [6.26050218 2.88417005 5.55666617 1.81061466]\n",
      "9   4   3   [6.51625706 3.01059087 5.80834517 2.19811805]\n",
      "Visualización\n",
      "[[ 0 -1  0 -1 -1]\n",
      " [-1  0 -1  1 -1]\n",
      " [ 1 -1 -1 -1 -1]\n",
      " [-1 -1  2 -1  2]\n",
      " [-1  2 -1  2  2]]\n"
     ]
    },
    {
     "data": {
      "image/png": "[encoded data removed]",
      "text/plain": [
       "<Figure size 432x288 with 2 Axes>"
      ]
     },
     "metadata": {
      "needs_background": "light"
     },
     "output_type": "display_data"
    }
   ],
   "source": [
    "if __name__==\"__main__\":\n",
    "  SOM()"
   ]
  },
  {
   "cell_type": "code",
   "execution_count": null,
   "metadata": {},
   "outputs": [],
   "source": []
  }
 ],
 "metadata": {
  "kernelspec": {
   "display_name": "Python 3",
   "language": "python",
   "name": "python3"
  },
  "language_info": {
   "codemirror_mode": {
    "name": "ipython",
    "version": 3
   },
   "file_extension": ".py",
   "mimetype": "text/x-python",
   "name": "python",
   "nbconvert_exporter": "python",
   "pygments_lexer": "ipython3",
   "version": "3.7.6"
  }
 },
 "nbformat": 4,
 "nbformat_minor": 4
}
