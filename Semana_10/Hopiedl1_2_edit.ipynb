{
  "nbformat": 4,
  "nbformat_minor": 0,
  "metadata": {
    "colab": {
      "provenance": []
    },
    "kernelspec": {
      "name": "python3",
      "display_name": "Python 3"
    },
    "language_info": {
      "name": "python"
    }
  },
  "cells": [
    {
      "cell_type": "code",
      "source": [
        "import numpy as np\n",
        "import random\n",
        "import os\n",
        "import re\n",
        "from PIL import Image"
      ],
      "metadata": {
        "id": "HL9F3b-TVrQ2"
      },
      "execution_count": 2,
      "outputs": []
    },
    {
      "cell_type": "code",
      "source": [
        "!pip install numpy==1.19.5"
      ],
      "metadata": {
        "colab": {
          "base_uri": "https://localhost:8080/"
        },
        "id": "9dC18q49Xkw0",
        "outputId": "032f0a3b-7074-45b7-912e-ac360b7dc6f1"
      },
      "execution_count": 15,
      "outputs": [
        {
          "output_type": "stream",
          "name": "stdout",
          "text": [
            "Collecting numpy==1.19.5\n",
            "  Downloading numpy-1.19.5.zip (7.3 MB)\n",
            "\u001b[2K     \u001b[90m━━━━━━━━━━━━━━━━━━━━━━━━━━━━━━━━━━━━━━━━\u001b[0m \u001b[32m7.3/7.3 MB\u001b[0m \u001b[31m18.4 MB/s\u001b[0m eta \u001b[36m0:00:00\u001b[0m\n",
            "\u001b[?25h  Installing build dependencies ... \u001b[?25l\u001b[?25hdone\n",
            "  Getting requirements to build wheel ... \u001b[?25l\u001b[?25hdone\n",
            "  Preparing metadata (pyproject.toml) ... \u001b[?25l\u001b[?25hdone\n",
            "Building wheels for collected packages: numpy\n",
            "  \u001b[1;31merror\u001b[0m: \u001b[1msubprocess-exited-with-error\u001b[0m\n",
            "  \n",
            "  \u001b[31m×\u001b[0m \u001b[32mBuilding wheel for numpy \u001b[0m\u001b[1;32m(\u001b[0m\u001b[32mpyproject.toml\u001b[0m\u001b[1;32m)\u001b[0m did not run successfully.\n",
            "  \u001b[31m│\u001b[0m exit code: \u001b[1;36m1\u001b[0m\n",
            "  \u001b[31m╰─>\u001b[0m See above for output.\n",
            "  \n",
            "  \u001b[1;35mnote\u001b[0m: This error originates from a subprocess, and is likely not a problem with pip.\n",
            "  Building wheel for numpy (pyproject.toml) ... \u001b[?25l\u001b[?25herror\n",
            "\u001b[31m  ERROR: Failed building wheel for numpy\u001b[0m\u001b[31m\n",
            "\u001b[0mFailed to build numpy\n",
            "\u001b[31mERROR: Could not build wheels for numpy, which is required to install pyproject.toml-based projects\u001b[0m\u001b[31m\n",
            "\u001b[0m"
          ]
        }
      ]
    },
    {
      "cell_type": "code",
      "source": [
        "!pip show numpy"
      ],
      "metadata": {
        "id": "he9Hk3nFXvBU"
      },
      "execution_count": null,
      "outputs": []
    },
    {
      "cell_type": "code",
      "source": [
        "#convertimos la mtriz en vector\n",
        "def mat2vec(x):\n",
        "    m = x.shape[0]*x.shape[1]\n",
        "    tmp1 = np.zeros(m)\n",
        "\n",
        "    c = 0\n",
        "    for i in range(x.shape[0]):\n",
        "        for j in range(x.shape[1]):\n",
        "            tmp1[c] = x[i,j]\n",
        "            c +=1\n",
        "    return tmp1"
      ],
      "metadata": {
        "id": "EirqZGMcVteM"
      },
      "execution_count": 3,
      "outputs": []
    },
    {
      "cell_type": "code",
      "source": [
        "#crea la matriz nxn para la imagen\n",
        "def create_W(x):\n",
        "    if len(x.shape) != 1:\n",
        "        print(\"No es vector\")\n",
        "        return\n",
        "    else:\n",
        "        w = np.zeros([len(x),len(x)])\n",
        "        for i in range(len(x)):\n",
        "            for j in range(i,len(x)):\n",
        "                if i == j:\n",
        "                    w[i,j] = 0\n",
        "                else:\n",
        "                    w[i,j] = x[i]*x[j]\n",
        "                    w[j,i] = w[i,j]\n",
        "    return w"
      ],
      "metadata": {
        "id": "8bhuXm27Vu-F"
      },
      "execution_count": 4,
      "outputs": []
    },
    {
      "cell_type": "code",
      "source": [
        "# leemos la imagen y la vonertimos en array de numpy\n",
        "def readImg2array(file,size, threshold= 145):\n",
        "    pilIN = Image.open(file).convert(mode=\"L\")\n",
        "    pilIN= pilIN.resize(size)\n",
        "    imgArray = np.asarray(pilIN,dtype=np.uint8)\n",
        "    x = np.zeros(imgArray.shape,dtype=float)\n",
        "    x[imgArray > threshold] = 1\n",
        "    x[x==0] = -1\n",
        "    return x"
      ],
      "metadata": {
        "id": "B-fLHfVXVxg7"
      },
      "execution_count": 17,
      "outputs": []
    },
    {
      "cell_type": "code",
      "source": [
        "#convertimos array numpay a imagen\n",
        "def array2img(data, outFile = None):\n",
        "\n",
        "    #data is 1 or -1 matrix\n",
        "    y = np.zeros(data.shape,dtype=np.uint8)\n",
        "    y[data==1] = 255\n",
        "    y[data==-1] = 0\n",
        "    img = Image.fromarray(y,mode=\"L\")\n",
        "    if outFile is not None:\n",
        "        img.save(outFile)\n",
        "    return img"
      ],
      "metadata": {
        "id": "esKxPyMJVzZE"
      },
      "execution_count": 7,
      "outputs": []
    },
    {
      "cell_type": "code",
      "source": [
        "#prueba\n",
        "def update(w,y_vec,theta=0.5,time=100):\n",
        "    for s in range(time):\n",
        "        m = len(y_vec)\n",
        "        i = random.randint(0,m-1)\n",
        "        u = np.dot(w[i][:],y_vec) - theta\n",
        "        if u > 0:\n",
        "            y_vec[i] = 1\n",
        "        elif u < 0:\n",
        "            y_vec[i] = -1\n",
        "    return y_vec"
      ],
      "metadata": {
        "id": "3NN_rJcPV0z0"
      },
      "execution_count": 8,
      "outputs": []
    },
    {
      "cell_type": "code",
      "source": [
        "#Hopfield\n",
        "def hopfield(train_files, test_files,theta=0.5, time=1000, size=(100,100),threshold=60, current_path=None):\n",
        "    print(\"importando la imagen y creando la matriz....\")\n",
        "    num_files = 0\n",
        "    for path in train_files:\n",
        "        print(path)\n",
        "        x = readImg2array(file=path,size=size,threshold=threshold)\n",
        "        x_vec = mat2vec(x)\n",
        "        print(len(x_vec))\n",
        "        if num_files == 0:\n",
        "            w = create_W(x_vec)\n",
        "            num_files = 1\n",
        "        else:\n",
        "            tmp_w = create_W(x_vec)\n",
        "            w = w + tmp_w\n",
        "            num_files +=1\n",
        "\n",
        "    #importando la data de prueba\n",
        "    counter = 0\n",
        "    for path in test_files:\n",
        "        y = readImg2array(file=path,size=size,threshold=threshold)\n",
        "        oshape = y.shape\n",
        "        y_img = array2img(y)\n",
        "        y_img.show()\n",
        "        print(\"Datos de imagen importado\")\n",
        "\n",
        "        y_vec = mat2vec(y)\n",
        "        print(\"Updating...\")\n",
        "        y_vec_after = update(w=w,y_vec=y_vec,theta=theta,time=time)\n",
        "        y_vec_after = y_vec_after.reshape(oshape)\n",
        "        if current_path is not None:\n",
        "            outfile = current_path+\"/after_\"+str(counter)+\".jpeg\"\n",
        "            array2img(y_vec_after,outFile=outfile)\n",
        "        else:\n",
        "            after_img = array2img(y_vec_after,outFile=None)\n",
        "            after_img.show()\n",
        "        counter +=1\n",
        "        print(\"fin\")"
      ],
      "metadata": {
        "id": "Pzb0HgdhV29z"
      },
      "execution_count": 9,
      "outputs": []
    },
    {
      "cell_type": "code",
      "execution_count": 18,
      "metadata": {
        "colab": {
          "base_uri": "https://localhost:8080/"
        },
        "id": "7d-8ztl_VkEa",
        "outputId": "9311e0cf-dbe5-4aab-e630-cfef1ed85418"
      },
      "outputs": [
        {
          "output_type": "stream",
          "name": "stdout",
          "text": [
            "importando la imagen y creando la matriz....\n",
            "/content/train_pics1/Perrito.jpg\n",
            "10000\n",
            "Datos de imagen importado\n",
            "Updating...\n",
            "fin\n"
          ]
        }
      ],
      "source": [
        "#principal\n",
        "#Se crea una lista de arhivos de entrenamiento\n",
        "current_path = os.getcwd()\n",
        "train_paths = []\n",
        "path = current_path+\"/train_pics1/\"\n",
        "for i in os.listdir(path):\n",
        "    if re.match(r'[0-9a-zA-Z-]*.jp[e]*g',i):\n",
        "        train_paths.append(path+i)\n",
        "\n",
        "#Lista de archivos de prueba\n",
        "test_paths = []\n",
        "path = current_path+\"/test_pics1/\"\n",
        "for i in os.listdir(path):\n",
        "    if re.match(r'[0-9a-zA-Z-_]*.jp[e]*g',i):\n",
        "        test_paths.append(path+i)\n",
        "\n",
        "#Hopfield network starts!\n",
        "hopfield(train_files=train_paths, test_files=test_paths, theta=0.5,time=10,size=(100,100),threshold=60, current_path = current_path)"
      ]
    }
  ]
}