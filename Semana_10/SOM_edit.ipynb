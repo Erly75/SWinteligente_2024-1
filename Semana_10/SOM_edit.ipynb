{
  "cells": [
    {
      "cell_type": "markdown",
      "metadata": {
        "id": "gcQmyrmwQAGS"
      },
      "source": [
        "## Redes Neuronales SOM"
      ]
    },
    {
      "cell_type": "code",
      "execution_count": 1,
      "metadata": {
        "id": "X2AUnBwoQAGT"
      },
      "outputs": [],
      "source": [
        "import numpy as np\n",
        "import matplotlib.pyplot as plt"
      ]
    },
    {
      "cell_type": "code",
      "source": [
        "!pip show numpy"
      ],
      "metadata": {
        "colab": {
          "base_uri": "https://localhost:8080/"
        },
        "id": "3b8MN5gPUyaD",
        "outputId": "ad4af9f0-7b6f-4a7c-c8ca-d13aeea98b00"
      },
      "execution_count": 21,
      "outputs": [
        {
          "output_type": "stream",
          "name": "stdout",
          "text": [
            "Name: numpy\n",
            "Version: 1.25.2\n",
            "Summary: Fundamental package for array computing in Python\n",
            "Home-page: https://www.numpy.org\n",
            "Author: Travis E. Oliphant et al.\n",
            "Author-email: \n",
            "License: BSD-3-Clause\n",
            "Location: /usr/local/lib/python3.10/dist-packages\n",
            "Requires: \n",
            "Required-by: albumentations, altair, arviz, astropy, autograd, blis, bokeh, bqplot, chex, cmdstanpy, contourpy, cudf-cu12, cufflinks, cupy-cuda12x, cvxpy, datascience, db-dtypes, dopamine_rl, ecos, flax, folium, geemap, gensim, gym, h5py, holoviews, hyperopt, ibis-framework, imageio, imbalanced-learn, imgaug, jax, jaxlib, librosa, lightgbm, matplotlib, matplotlib-venn, missingno, mizani, ml-dtypes, mlxtend, moviepy, music21, nibabel, numba, numexpr, opencv-contrib-python, opencv-python, opencv-python-headless, opt-einsum, optax, orbax-checkpoint, osqp, pandas, pandas-gbq, pandas-stubs, patsy, plotnine, prophet, pyarrow, pycocotools, pyerfa, pymc, pytensor, python-louvain, PyWavelets, qdldl, qudida, rmm-cu12, scikit-image, scikit-learn, scipy, scs, seaborn, shapely, sklearn-pandas, soxr, spacy, stanio, statsmodels, tables, tensorboard, tensorflow, tensorflow-datasets, tensorflow-hub, tensorflow-probability, tensorstore, thinc, tifffile, torchtext, torchvision, transformers, wordcloud, xarray, xarray-einstats, xgboost, yellowbrick, yfinance\n"
          ]
        }
      ]
    },
    {
      "cell_type": "code",
      "source": [
        "!pip show matplotlib"
      ],
      "metadata": {
        "colab": {
          "base_uri": "https://localhost:8080/"
        },
        "id": "EecpFyZyU2KL",
        "outputId": "57c8c0c6-5333-495e-9b16-bf77304bc02d"
      },
      "execution_count": 22,
      "outputs": [
        {
          "output_type": "stream",
          "name": "stdout",
          "text": [
            "Name: matplotlib\n",
            "Version: 3.7.1\n",
            "Summary: Python plotting package\n",
            "Home-page: https://matplotlib.org\n",
            "Author: John D. Hunter, Michael Droettboom\n",
            "Author-email: matplotlib-users@python.org\n",
            "License: PSF\n",
            "Location: /usr/local/lib/python3.10/dist-packages\n",
            "Requires: contourpy, cycler, fonttools, kiwisolver, numpy, packaging, pillow, pyparsing, python-dateutil\n",
            "Required-by: arviz, bigframes, datascience, fastai, geemap, imgaug, matplotlib-venn, missingno, mizani, mlxtend, music21, plotnine, prophet, pycocotools, seaborn, wordcloud, yellowbrick\n"
          ]
        }
      ]
    },
    {
      "cell_type": "markdown",
      "metadata": {
        "id": "zignmIvpQAGU"
      },
      "source": [
        "#### Función de vecindad"
      ]
    },
    {
      "cell_type": "code",
      "execution_count": 2,
      "metadata": {
        "id": "cBHmu-qNQAGU"
      },
      "outputs": [],
      "source": [
        "def minimoNodo(data, t, pesos, m_rows, m_cols):\n",
        "    result = (0,0)\n",
        "    distanciaMinima = 1.0e20\n",
        "    for i in range(m_rows):\n",
        "        for j in range(m_cols):\n",
        "            ed = euc_dist(pesos[i][j], data[t])\n",
        "            if ed < distanciaMinima:\n",
        "                distanciaMinima = ed\n",
        "                result = (i, j)\n",
        "    return result"
      ]
    },
    {
      "cell_type": "markdown",
      "metadata": {
        "id": "OCoevfkxQAGU"
      },
      "source": [
        "#### Distancia euclidiana"
      ]
    },
    {
      "cell_type": "code",
      "execution_count": 3,
      "metadata": {
        "id": "tcgs_FCcQAGU"
      },
      "outputs": [],
      "source": [
        "def euc_dist(v1, v2):\n",
        "    return np.linalg.norm(v1 - v2)"
      ]
    },
    {
      "cell_type": "markdown",
      "metadata": {
        "id": "0E3a-g47QAGU"
      },
      "source": [
        "#### Manhattan para el rango el espacio de agrupación"
      ]
    },
    {
      "cell_type": "code",
      "execution_count": 4,
      "metadata": {
        "id": "8Qa9tjkBQAGU"
      },
      "outputs": [],
      "source": [
        "def manhattan_dist(r1, c1, r2, c2):\n",
        "    return np.abs(r1-r2) + np.abs(c1-c2)"
      ]
    },
    {
      "cell_type": "markdown",
      "metadata": {
        "id": "iMrHQm9uQAGU"
      },
      "source": [
        "#### Entrenamiento con SOM"
      ]
    },
    {
      "cell_type": "code",
      "execution_count": 19,
      "metadata": {
        "id": "QbgZ1l45QAGU"
      },
      "outputs": [],
      "source": [
        "def SOM():\n",
        "    diminsion = 4\n",
        "    Rows = 5; Cols = 5\n",
        "    rangoMax = Rows + Cols\n",
        "    factorAprendizaje = 0.5\n",
        "    iteraciones = 1000\n",
        "    archivo = \"irisDataC.txt\"\n",
        "\n",
        "    # dataEntrenamiento = np.loadtxt(archivo, delimiter=\",\", usecols=range(0,4),dtype=int)\n",
        "    # dataEntrenamiento = np.loadtxt(archivo, delimiter=\",\", usecols=range(0,4), converters={0: int, 1: int, 2: int, 3: int})\n",
        "    dataEntrenamiento = np.loadtxt(archivo, delimiter=\",\", usecols=range(0,4)).astype(np.int64)\n",
        "\n",
        "    salida = np.loadtxt(archivo, delimiter=\",\", usecols=[4],dtype=int)\n",
        "\n",
        "    #Inicializando pesos\n",
        "    pesos = np.random.randn(Rows, Cols,diminsion)\n",
        "    for s in range(iteraciones):\n",
        "        alfa = 1.0 - ((s * 1.0) / iteraciones)\n",
        "        rangoActual = (int)(alfa * rangoMax)\n",
        "        alfaActual = alfa * factorAprendizaje\n",
        "        t = np.random.randint(len(dataEntrenamiento))\n",
        "        (bmu_row, bmu_col) = minimoNodo(dataEntrenamiento, t, pesos, Rows, Cols)\n",
        "        for i in range(Rows):\n",
        "            for j in range(Cols):\n",
        "                if manhattan_dist(bmu_row, bmu_col, i, j) < rangoActual:\n",
        "                    pesos[i][j] = pesos[i][j] + alfaActual * (dataEntrenamiento[t] - pesos[i][j])\n",
        "    for t in range(10):\n",
        "        (bmu_row, bmu_col) = minimoNodo(dataEntrenamiento, t, pesos, Rows, Cols)\n",
        "        print(t,\" \",bmu_row,\" \",bmu_col,\" \",pesos[bmu_row,bmu_col])\n",
        "\n",
        "    #VISUALIZACIÓN\n",
        "    print(\"Visualización\")\n",
        "    mapa = np.empty(shape=(Rows,Cols), dtype=int)\n",
        "    for i in range(Rows):\n",
        "        for j in range(Cols):\n",
        "            mapa[i][j] = -1\n",
        "    for t in range(len(dataEntrenamiento)):\n",
        "        (m_row, m_col) = minimoNodo(dataEntrenamiento, t, pesos, Rows, Cols)\n",
        "        mapa[m_row][m_col] = salida[t]\n",
        "    print(mapa)\n",
        "    plt.imshow(mapa)\n",
        "    plt.colorbar()\n",
        "    plt.show()\n"
      ]
    },
    {
      "cell_type": "markdown",
      "metadata": {
        "id": "u3HOCEjHQAGV"
      },
      "source": [
        "### Función principal"
      ]
    },
    {
      "cell_type": "code",
      "execution_count": 20,
      "metadata": {
        "colab": {
          "base_uri": "https://localhost:8080/",
          "height": 713
        },
        "id": "Hd4JItprQAGV",
        "outputId": "af0a47f4-2ce9-4ae6-accb-37b0fbfb2160"
      },
      "outputs": [
        {
          "output_type": "stream",
          "name": "stdout",
          "text": [
            "0   1   1   [4.99581320e+00 2.99987914e+00 1.00227658e+00 1.07780859e-03]\n",
            "1   1   1   [4.99581320e+00 2.99987914e+00 1.00227658e+00 1.07780859e-03]\n",
            "2   0   0   [4.03020726e+00 2.99999971e+00 1.00020265e+00 1.01183949e-04]\n",
            "3   0   4   [5.0811076  2.00480941 3.99565871 0.99519059]\n",
            "4   1   3   [5.93891815 2.00130914 4.08401725 0.9987008 ]\n",
            "5   3   0   [6.01073708 3.         5.66747541 1.99575051]\n",
            "6   4   4   [5.04021248 2.00037184 5.00021017 1.00037184]\n",
            "7   4   1   [6.91116024 2.99921157 5.04542934 1.99921157]\n",
            "8   3   3   [5.98025478 2.03278418 4.98888791 1.03278418]\n",
            "9   2   0   [5.9915989  2.99997089 5.11914442 1.96655968]\n",
            "Visualización\n",
            "[[ 0 -1 -1 -1  1]\n",
            " [-1  0 -1  1 -1]\n",
            " [ 2 -1 -1 -1 -1]\n",
            " [ 2 -1 -1  2 -1]\n",
            " [-1  2 -1 -1  2]]\n"
          ]
        },
        {
          "output_type": "display_data",
          "data": {
            "text/plain": [
              "<Figure size 640x480 with 2 Axes>"
            ],
            "image/png": "[encoded data removed]"
          },
          "metadata": {}
        }
      ],
      "source": [
        "if __name__==\"__main__\":\n",
        "  SOM()"
      ]
    }
  ],
  "metadata": {
    "kernelspec": {
      "display_name": "Python 3",
      "language": "python",
      "name": "python3"
    },
    "language_info": {
      "codemirror_mode": {
        "name": "ipython",
        "version": 3
      },
      "file_extension": ".py",
      "mimetype": "text/x-python",
      "name": "python",
      "nbconvert_exporter": "python",
      "pygments_lexer": "ipython3",
      "version": "3.7.6"
    },
    "colab": {
      "provenance": []
    }
  },
  "nbformat": 4,
  "nbformat_minor": 0
}